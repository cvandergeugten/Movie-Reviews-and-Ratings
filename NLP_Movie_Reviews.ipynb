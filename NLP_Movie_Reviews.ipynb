{
 "cells": [
  {
   "cell_type": "markdown",
   "id": "cb6e9f26",
   "metadata": {},
   "source": [
    "# Simple NLP with Movie Reviews"
   ]
  },
  {
   "cell_type": "code",
   "execution_count": 35,
   "id": "f5f9fc7a",
   "metadata": {},
   "outputs": [],
   "source": [
    "import pandas as pd\n",
    "import nltk"
   ]
  },
  {
   "cell_type": "code",
   "execution_count": 46,
   "id": "33c19653",
   "metadata": {},
   "outputs": [
    {
     "data": {
      "text/html": [
       "<div>\n",
       "<style scoped>\n",
       "    .dataframe tbody tr th:only-of-type {\n",
       "        vertical-align: middle;\n",
       "    }\n",
       "\n",
       "    .dataframe tbody tr th {\n",
       "        vertical-align: top;\n",
       "    }\n",
       "\n",
       "    .dataframe thead th {\n",
       "        text-align: right;\n",
       "    }\n",
       "</style>\n",
       "<table border=\"1\" class=\"dataframe\">\n",
       "  <thead>\n",
       "    <tr style=\"text-align: right;\">\n",
       "      <th></th>\n",
       "      <th>Title</th>\n",
       "      <th>Rating</th>\n",
       "      <th>ReviewText</th>\n",
       "    </tr>\n",
       "  </thead>\n",
       "  <tbody>\n",
       "    <tr>\n",
       "      <th>0</th>\n",
       "      <td>The Gray Man</td>\n",
       "      <td>2.5</td>\n",
       "      <td>Two hours hard to finish. Ryan Gosling could b...</td>\n",
       "    </tr>\n",
       "    <tr>\n",
       "      <th>1</th>\n",
       "      <td>The Gray Man</td>\n",
       "      <td>0.5</td>\n",
       "      <td>Awful. So freakin awful! No character developm...</td>\n",
       "    </tr>\n",
       "    <tr>\n",
       "      <th>2</th>\n",
       "      <td>The Gray Man</td>\n",
       "      <td>2.5</td>\n",
       "      <td>Very boring for a spy film. Had high hopes for...</td>\n",
       "    </tr>\n",
       "    <tr>\n",
       "      <th>3</th>\n",
       "      <td>The Gray Man</td>\n",
       "      <td>3.0</td>\n",
       "      <td>What let this movie down was the casting of th...</td>\n",
       "    </tr>\n",
       "    <tr>\n",
       "      <th>4</th>\n",
       "      <td>The Gray Man</td>\n",
       "      <td>3.0</td>\n",
       "      <td>This film is indeed quite stunning with strong...</td>\n",
       "    </tr>\n",
       "  </tbody>\n",
       "</table>\n",
       "</div>"
      ],
      "text/plain": [
       "          Title  Rating                                         ReviewText\n",
       "0  The Gray Man     2.5  Two hours hard to finish. Ryan Gosling could b...\n",
       "1  The Gray Man     0.5  Awful. So freakin awful! No character developm...\n",
       "2  The Gray Man     2.5  Very boring for a spy film. Had high hopes for...\n",
       "3  The Gray Man     3.0  What let this movie down was the casting of th...\n",
       "4  The Gray Man     3.0  This film is indeed quite stunning with strong..."
      ]
     },
     "execution_count": 46,
     "metadata": {},
     "output_type": "execute_result"
    }
   ],
   "source": [
    "df = pd.read_csv('movie_reviews.csv')\n",
    "df.dropna(inplace=True) #Remove rows with Null values\n",
    "df.head()"
   ]
  },
  {
   "cell_type": "code",
   "execution_count": 47,
   "id": "a696855b",
   "metadata": {
    "scrolled": true
   },
   "outputs": [
    {
     "name": "stdout",
     "output_type": "stream",
     "text": [
      "<class 'pandas.core.frame.DataFrame'>\n",
      "Int64Index: 1165 entries, 0 to 1165\n",
      "Data columns (total 3 columns):\n",
      " #   Column      Non-Null Count  Dtype  \n",
      "---  ------      --------------  -----  \n",
      " 0   Title       1165 non-null   object \n",
      " 1   Rating      1165 non-null   float64\n",
      " 2   ReviewText  1165 non-null   object \n",
      "dtypes: float64(1), object(2)\n",
      "memory usage: 36.4+ KB\n"
     ]
    }
   ],
   "source": [
    "df.info()"
   ]
  },
  {
   "cell_type": "code",
   "execution_count": 48,
   "id": "b488c76b",
   "metadata": {},
   "outputs": [],
   "source": [
    "#Create a new binary variable to classify ratings\n",
    "df['RatingType'] = ['Bad' if rating <= 2.5\n",
    "                   else 'Good' for rating in df['Rating']]"
   ]
  },
  {
   "cell_type": "code",
   "execution_count": 73,
   "id": "f3061b26",
   "metadata": {},
   "outputs": [
    {
     "data": {
      "text/plain": [
       "<AxesSubplot:ylabel='RatingType'>"
      ]
     },
     "execution_count": 73,
     "metadata": {},
     "output_type": "execute_result"
    },
    {
     "data": {
      "image/png": "[encoded data removed]",
      "text/plain": [
       "<Figure size 432x288 with 1 Axes>"
      ]
     },
     "metadata": {},
     "output_type": "display_data"
    }
   ],
   "source": [
    "#Rating type distribution\n",
    "df['RatingType'].value_counts().plot(kind='pie')"
   ]
  },
  {
   "cell_type": "code",
   "execution_count": 36,
   "id": "792a1379",
   "metadata": {},
   "outputs": [
    {
     "name": "stderr",
     "output_type": "stream",
     "text": [
      "[nltk_data] Downloading package stopwords to\n",
      "[nltk_data]     C:\\Users\\leave\\AppData\\Roaming\\nltk_data...\n",
      "[nltk_data]   Package stopwords is already up-to-date!\n"
     ]
    },
    {
     "data": {
      "text/plain": [
       "True"
      ]
     },
     "execution_count": 36,
     "metadata": {},
     "output_type": "execute_result"
    }
   ],
   "source": [
    "#Stopwords for our text preprocessing\n",
    "nltk.download('stopwords')"
   ]
  },
  {
   "cell_type": "code",
   "execution_count": 50,
   "id": "14fe15e8",
   "metadata": {},
   "outputs": [],
   "source": [
    "from nltk.corpus import stopwords\n",
    "import string\n",
    "\n",
    "def text_processing(mess):\n",
    "    \"\"\"\n",
    "    Takes in a string of text, then performs the following:\n",
    "    1. Remove all punctuation\n",
    "    2. Remove all stopwords\n",
    "    3. Returns a list of the cleaned text\n",
    "    \"\"\"\n",
    "    # Check characters to see if they are in punctuation\n",
    "    nopunc = [char for char in mess if char not in string.punctuation]\n",
    "\n",
    "    # Join the characters again to form the string.\n",
    "    nopunc = ''.join(nopunc)\n",
    "    \n",
    "    # Now just remove any stopwords\n",
    "    return [word for word in nopunc.split() if word.lower() not in stopwords.words('english')]"
   ]
  },
  {
   "cell_type": "code",
   "execution_count": 51,
   "id": "3a2d9c0b",
   "metadata": {},
   "outputs": [],
   "source": [
    "#Preprocessing Imports\n",
    "from sklearn.feature_extraction.text import CountVectorizer\n",
    "from sklearn.feature_extraction.text import TfidfTransformer\n",
    "from sklearn.pipeline import Pipeline"
   ]
  },
  {
   "cell_type": "code",
   "execution_count": 75,
   "id": "8c546e13",
   "metadata": {},
   "outputs": [],
   "source": [
    "#Model Imports\n",
    "from sklearn.naive_bayes import MultinomialNB as NB\n",
    "from sklearn.tree import DecisionTreeClassifier as DT\n",
    "from sklearn.ensemble import BaggingClassifier as BAG\n",
    "from sklearn.ensemble import GradientBoostingClassifier as GBC\n",
    "from sklearn.ensemble import RandomForestClassifier as RF\n",
    "from sklearn.linear_model import LogisticRegression as LR"
   ]
  },
  {
   "cell_type": "code",
   "execution_count": 53,
   "id": "7af23726",
   "metadata": {},
   "outputs": [],
   "source": [
    "#Metrics Imports\n",
    "from sklearn.model_selection import train_test_split\n",
    "from sklearn.metrics import confusion_matrix, classification_report"
   ]
  },
  {
   "cell_type": "markdown",
   "id": "14a4d2a6",
   "metadata": {},
   "source": [
    "## Multinomial Naive Bayes"
   ]
  },
  {
   "cell_type": "code",
   "execution_count": 70,
   "id": "adf50bd7",
   "metadata": {},
   "outputs": [
    {
     "name": "stdout",
     "output_type": "stream",
     "text": [
      "[[  2 101]\n",
      " [  0 247]]\n",
      "              precision    recall  f1-score   support\n",
      "\n",
      "         Bad       1.00      0.02      0.04       103\n",
      "        Good       0.71      1.00      0.83       247\n",
      "\n",
      "    accuracy                           0.71       350\n",
      "   macro avg       0.85      0.51      0.43       350\n",
      "weighted avg       0.80      0.71      0.60       350\n",
      "\n"
     ]
    }
   ],
   "source": [
    "#Multinomial Naive Bayes\n",
    "pipeline = Pipeline([\n",
    "    ('bow', CountVectorizer(analyzer=text_processing)),  # strings to token integer counts\n",
    "    ('tfidf', TfidfTransformer()),  # integer counts to weighted TF-IDF scores\n",
    "    ('classifier', NB()),  # train on TF-IDF vectors w/ Naive Bayes classifier\n",
    "])\n",
    "\n",
    "X = df['ReviewText']\n",
    "y = df['RatingType']\n",
    "\n",
    "X_train, X_test, y_train, y_test = train_test_split(X,y,test_size=0.3,shuffle=True,random_state=420)\n",
    "\n",
    "pipeline.fit(X_train,y_train)\n",
    "predictions = pipeline.predict(X_test)\n",
    "print(confusion_matrix(y_test,predictions))\n",
    "print(classification_report(y_test,predictions))"
   ]
  },
  {
   "cell_type": "markdown",
   "id": "463c792f",
   "metadata": {},
   "source": [
    "## Basic Decision Tree"
   ]
  },
  {
   "cell_type": "code",
   "execution_count": 56,
   "id": "b1a2bbdb",
   "metadata": {},
   "outputs": [
    {
     "name": "stdout",
     "output_type": "stream",
     "text": [
      "[[ 42  61]\n",
      " [ 67 180]]\n",
      "              precision    recall  f1-score   support\n",
      "\n",
      "         Bad       0.39      0.41      0.40       103\n",
      "        Good       0.75      0.73      0.74       247\n",
      "\n",
      "    accuracy                           0.63       350\n",
      "   macro avg       0.57      0.57      0.57       350\n",
      "weighted avg       0.64      0.63      0.64       350\n",
      "\n"
     ]
    }
   ],
   "source": [
    "#Decision Tree\n",
    "pipeline = Pipeline([\n",
    "    ('bow', CountVectorizer(analyzer=text_processing)),  # strings to token integer counts\n",
    "    ('tfidf', TfidfTransformer()),  # integer counts to weighted TF-IDF scores\n",
    "    ('classifier', DT(max_depth=None)),  # train on TF-IDF vectors w/ Decision Tree classifier\n",
    "])\n",
    "\n",
    "X = df['ReviewText']\n",
    "y = df['RatingType']\n",
    "\n",
    "X_train, X_test, y_train, y_test = train_test_split(X,y,test_size=0.3,shuffle=True,random_state=420)\n",
    "\n",
    "pipeline.fit(X_train,y_train)\n",
    "predictions = pipeline.predict(X_test)\n",
    "print(confusion_matrix(y_test,predictions))\n",
    "print(classification_report(y_test,predictions))"
   ]
  },
  {
   "cell_type": "markdown",
   "id": "e79a0240",
   "metadata": {},
   "source": [
    "## Bagging (Tree Ensemble)"
   ]
  },
  {
   "cell_type": "code",
   "execution_count": 57,
   "id": "33552220",
   "metadata": {},
   "outputs": [
    {
     "name": "stdout",
     "output_type": "stream",
     "text": [
      "[[ 50  53]\n",
      " [ 39 208]]\n",
      "              precision    recall  f1-score   support\n",
      "\n",
      "         Bad       0.56      0.49      0.52       103\n",
      "        Good       0.80      0.84      0.82       247\n",
      "\n",
      "    accuracy                           0.74       350\n",
      "   macro avg       0.68      0.66      0.67       350\n",
      "weighted avg       0.73      0.74      0.73       350\n",
      "\n"
     ]
    }
   ],
   "source": [
    "#Bagging Ensemble\n",
    "pipeline = Pipeline([\n",
    "    ('bow', CountVectorizer(analyzer=text_processing)),  # strings to token integer counts\n",
    "    ('tfidf', TfidfTransformer()),  # integer counts to weighted TF-IDF scores\n",
    "    ('classifier', BAG(n_estimators=20)),  # train on TF-IDF vectors w/ Bagging Ensemble classifier\n",
    "])\n",
    "\n",
    "X = df['ReviewText']\n",
    "y = df['RatingType']\n",
    "\n",
    "X_train, X_test, y_train, y_test = train_test_split(X,y,test_size=0.3,shuffle=True,random_state=420)\n",
    "\n",
    "pipeline.fit(X_train,y_train)\n",
    "predictions = pipeline.predict(X_test)\n",
    "print(confusion_matrix(y_test,predictions))\n",
    "print(classification_report(y_test,predictions))"
   ]
  },
  {
   "cell_type": "markdown",
   "id": "055adc2b",
   "metadata": {},
   "source": [
    "## Random Forest"
   ]
  },
  {
   "cell_type": "code",
   "execution_count": 68,
   "id": "f2b2340c",
   "metadata": {},
   "outputs": [
    {
     "name": "stdout",
     "output_type": "stream",
     "text": [
      "[[ 31  72]\n",
      " [ 16 231]]\n",
      "              precision    recall  f1-score   support\n",
      "\n",
      "         Bad       0.66      0.30      0.41       103\n",
      "        Good       0.76      0.94      0.84       247\n",
      "\n",
      "    accuracy                           0.75       350\n",
      "   macro avg       0.71      0.62      0.63       350\n",
      "weighted avg       0.73      0.75      0.71       350\n",
      "\n"
     ]
    }
   ],
   "source": [
    "#Random Forest Ensemble\n",
    "pipeline = Pipeline([\n",
    "    ('bow', CountVectorizer(analyzer=text_processing)),  # strings to token integer counts\n",
    "    ('tfidf', TfidfTransformer()),  # integer counts to weighted TF-IDF scores\n",
    "    ('classifier', RF(n_estimators=25)),  # train on TF-IDF vectors w/ Random Forest Ensemble classifier\n",
    "])\n",
    "\n",
    "X = df['ReviewText']\n",
    "y = df['RatingType']\n",
    "\n",
    "X_train, X_test, y_train, y_test = train_test_split(X,y,test_size=0.3,shuffle=True,random_state=420)\n",
    "\n",
    "pipeline.fit(X_train,y_train)\n",
    "predictions = pipeline.predict(X_test)\n",
    "print(confusion_matrix(y_test,predictions))\n",
    "print(classification_report(y_test,predictions))"
   ]
  },
  {
   "cell_type": "markdown",
   "id": "d1e86ead",
   "metadata": {},
   "source": [
    "## Logistic Regression"
   ]
  },
  {
   "cell_type": "code",
   "execution_count": 66,
   "id": "8b438590",
   "metadata": {},
   "outputs": [
    {
     "name": "stdout",
     "output_type": "stream",
     "text": [
      "[[ 23  80]\n",
      " [  5 242]]\n",
      "              precision    recall  f1-score   support\n",
      "\n",
      "         Bad       0.82      0.22      0.35       103\n",
      "        Good       0.75      0.98      0.85       247\n",
      "\n",
      "    accuracy                           0.76       350\n",
      "   macro avg       0.79      0.60      0.60       350\n",
      "weighted avg       0.77      0.76      0.70       350\n",
      "\n"
     ]
    }
   ],
   "source": [
    "#Logistic Regression\n",
    "pipeline = Pipeline([\n",
    "    ('bow', CountVectorizer(analyzer='word')),  # strings to token integer counts\n",
    "    ('tfidf', TfidfTransformer()),  # integer counts to weighted TF-IDF scores\n",
    "    ('classifier', LR()),  # train on TF-IDF vectors w/ Logistic Regression \n",
    "])\n",
    "\n",
    "X = df['ReviewText']\n",
    "y = df['RatingType']\n",
    "\n",
    "X_train, X_test, y_train, y_test = train_test_split(X,y,test_size=0.3,shuffle=True,random_state=420)\n",
    "\n",
    "pipeline.fit(X_train,y_train)\n",
    "predictions = pipeline.predict(X_test)\n",
    "print(confusion_matrix(y_test,predictions))\n",
    "print(classification_report(y_test,predictions))"
   ]
  },
  {
   "cell_type": "markdown",
   "id": "d3a667ff",
   "metadata": {},
   "source": [
    "# Comparing the Models"
   ]
  },
  {
   "cell_type": "code",
   "execution_count": 77,
   "id": "4b202146",
   "metadata": {},
   "outputs": [],
   "source": [
    "results = {'Models':['Multinomial NB','Basic Decision Tree','Bagging','Random Forest','Logistic Regression'],\n",
    "          'Accuracy':[0.71,0.63,0.74,0.75,0.76],\n",
    "           'Bad F1-Score':[0.04,0.4,0.52,0.41,0.35],\n",
    "           'Good F1-Score': [0.83,0.74,0.82,0.84,0.85]}\n",
    "\n",
    "results_df = pd.DataFrame.from_dict(results)"
   ]
  },
  {
   "cell_type": "code",
   "execution_count": 78,
   "id": "88055950",
   "metadata": {},
   "outputs": [
    {
     "data": {
      "text/html": [
       "<div>\n",
       "<style scoped>\n",
       "    .dataframe tbody tr th:only-of-type {\n",
       "        vertical-align: middle;\n",
       "    }\n",
       "\n",
       "    .dataframe tbody tr th {\n",
       "        vertical-align: top;\n",
       "    }\n",
       "\n",
       "    .dataframe thead th {\n",
       "        text-align: right;\n",
       "    }\n",
       "</style>\n",
       "<table border=\"1\" class=\"dataframe\">\n",
       "  <thead>\n",
       "    <tr style=\"text-align: right;\">\n",
       "      <th></th>\n",
       "      <th>Models</th>\n",
       "      <th>Accuracy</th>\n",
       "      <th>Bad F1-Score</th>\n",
       "      <th>Good F1-Score</th>\n",
       "    </tr>\n",
       "  </thead>\n",
       "  <tbody>\n",
       "    <tr>\n",
       "      <th>0</th>\n",
       "      <td>Multinomial NB</td>\n",
       "      <td>0.71</td>\n",
       "      <td>0.04</td>\n",
       "      <td>0.83</td>\n",
       "    </tr>\n",
       "    <tr>\n",
       "      <th>1</th>\n",
       "      <td>Basic Decision Tree</td>\n",
       "      <td>0.63</td>\n",
       "      <td>0.40</td>\n",
       "      <td>0.74</td>\n",
       "    </tr>\n",
       "    <tr>\n",
       "      <th>2</th>\n",
       "      <td>Bagging</td>\n",
       "      <td>0.74</td>\n",
       "      <td>0.52</td>\n",
       "      <td>0.82</td>\n",
       "    </tr>\n",
       "    <tr>\n",
       "      <th>3</th>\n",
       "      <td>Random Forest</td>\n",
       "      <td>0.75</td>\n",
       "      <td>0.41</td>\n",
       "      <td>0.84</td>\n",
       "    </tr>\n",
       "    <tr>\n",
       "      <th>4</th>\n",
       "      <td>Logistic Regression</td>\n",
       "      <td>0.76</td>\n",
       "      <td>0.35</td>\n",
       "      <td>0.85</td>\n",
       "    </tr>\n",
       "  </tbody>\n",
       "</table>\n",
       "</div>"
      ],
      "text/plain": [
       "                Models  Accuracy  Bad F1-Score  Good F1-Score\n",
       "0       Multinomial NB      0.71          0.04           0.83\n",
       "1  Basic Decision Tree      0.63          0.40           0.74\n",
       "2              Bagging      0.74          0.52           0.82\n",
       "3        Random Forest      0.75          0.41           0.84\n",
       "4  Logistic Regression      0.76          0.35           0.85"
      ]
     },
     "execution_count": 78,
     "metadata": {},
     "output_type": "execute_result"
    }
   ],
   "source": [
    "results_df"
   ]
  },
  {
   "cell_type": "markdown",
   "id": "07ddb28c",
   "metadata": {},
   "source": [
    "The model with the highest accuracy ended up being the Logistic Regression model. Although this model has the highest accuracy, we might prefer to use the bagging model since this model has better F1-Scores for both of our target classes."
   ]
  },
  {
   "cell_type": "code",
   "execution_count": null,
   "id": "d97869db",
   "metadata": {},
   "outputs": [],
   "source": []
  }
 ],
 "metadata": {
  "kernelspec": {
   "display_name": "Python 3 (ipykernel)",
   "language": "python",
   "name": "python3"
  },
  "language_info": {
   "codemirror_mode": {
    "name": "ipython",
    "version": 3
   },
   "file_extension": ".py",
   "mimetype": "text/x-python",
   "name": "python",
   "nbconvert_exporter": "python",
   "pygments_lexer": "ipython3",
   "version": "3.9.12"
  }
 },
 "nbformat": 4,
 "nbformat_minor": 5
}
